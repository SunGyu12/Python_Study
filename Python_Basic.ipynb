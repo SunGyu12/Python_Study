{
 "cells": [
  {
   "cell_type": "markdown",
   "id": "1478b7a7",
   "metadata": {},
   "source": [
    "# Python Basic - Yype, Operator, String, Print"
   ]
  },
  {
   "cell_type": "code",
   "execution_count": 1,
   "id": "01335200",
   "metadata": {},
   "outputs": [
    {
     "data": {
      "text/plain": [
       "20"
      ]
     },
     "execution_count": 1,
     "metadata": {},
     "output_type": "execute_result"
    }
   ],
   "source": [
    "10+10"
   ]
  },
  {
   "cell_type": "code",
   "execution_count": 2,
   "id": "e9ba1b78",
   "metadata": {
    "scrolled": true
   },
   "outputs": [
    {
     "data": {
      "text/plain": [
       "1.0"
      ]
     },
     "execution_count": 2,
     "metadata": {},
     "output_type": "execute_result"
    }
   ],
   "source": [
    "10/10"
   ]
  },
  {
   "cell_type": "code",
   "execution_count": 3,
   "id": "efc37355",
   "metadata": {},
   "outputs": [
    {
     "data": {
      "text/plain": [
       "0"
      ]
     },
     "execution_count": 3,
     "metadata": {},
     "output_type": "execute_result"
    }
   ],
   "source": [
    "10-10"
   ]
  },
  {
   "cell_type": "code",
   "execution_count": 4,
   "id": "25202fc3",
   "metadata": {},
   "outputs": [
    {
     "name": "stdout",
     "output_type": "stream",
     "text": [
      "hello world\n"
     ]
    }
   ],
   "source": [
    "print('hello world')"
   ]
  },
  {
   "cell_type": "code",
   "execution_count": 10,
   "id": "42493f77",
   "metadata": {},
   "outputs": [],
   "source": [
    "a=1"
   ]
  },
  {
   "cell_type": "code",
   "execution_count": 11,
   "id": "e0987ed1",
   "metadata": {},
   "outputs": [
    {
     "name": "stdout",
     "output_type": "stream",
     "text": [
      "<class 'int'>\n"
     ]
    }
   ],
   "source": [
    "print(type(a))"
   ]
  },
  {
   "cell_type": "code",
   "execution_count": 14,
   "id": "00e141cb",
   "metadata": {},
   "outputs": [],
   "source": [
    "a='1'"
   ]
  },
  {
   "cell_type": "code",
   "execution_count": 15,
   "id": "3126227e",
   "metadata": {},
   "outputs": [
    {
     "name": "stdout",
     "output_type": "stream",
     "text": [
      "<class 'str'>\n"
     ]
    }
   ],
   "source": [
    "print(type(a))"
   ]
  },
  {
   "cell_type": "code",
   "execution_count": 16,
   "id": "50b2c82a",
   "metadata": {},
   "outputs": [],
   "source": [
    "a=[1,2,3,4,5]"
   ]
  },
  {
   "cell_type": "code",
   "execution_count": 17,
   "id": "9d012a19",
   "metadata": {},
   "outputs": [
    {
     "name": "stdout",
     "output_type": "stream",
     "text": [
      "<class 'list'>\n"
     ]
    }
   ],
   "source": [
    "print(type(a))"
   ]
  },
  {
   "cell_type": "code",
   "execution_count": 18,
   "id": "f3548655",
   "metadata": {},
   "outputs": [],
   "source": [
    "a={'1':1,'2':2,'3':3,'4':4,'5':5}"
   ]
  },
  {
   "cell_type": "code",
   "execution_count": 19,
   "id": "caed98e5",
   "metadata": {},
   "outputs": [
    {
     "name": "stdout",
     "output_type": "stream",
     "text": [
      "<class 'dict'>\n"
     ]
    }
   ],
   "source": [
    "print(type(a))"
   ]
  },
  {
   "cell_type": "code",
   "execution_count": 24,
   "id": "1704b94e",
   "metadata": {},
   "outputs": [
    {
     "name": "stdout",
     "output_type": "stream",
     "text": [
      "a = 6\n",
      "-70\n"
     ]
    }
   ],
   "source": [
    "#integer\n",
    "a=1+2+3\n",
    "print('a = ' + str(a))\n",
    "a=-10+10+(-30-40)\n",
    "print(a)"
   ]
  },
  {
   "cell_type": "code",
   "execution_count": 25,
   "id": "296381ee",
   "metadata": {},
   "outputs": [
    {
     "name": "stdout",
     "output_type": "stream",
     "text": [
      "a = -55.6567\n",
      "a = 0.6666666666666666\n",
      "<class 'float'>\n"
     ]
    }
   ],
   "source": [
    "#float\n",
    "a=128.8+38-222.4567\n",
    "print('a = ' + str(a))\n",
    "a = 2/3\n",
    "print('a = ' + str(a))\n",
    "print(type(a))"
   ]
  },
  {
   "cell_type": "code",
   "execution_count": 26,
   "id": "ff9e53d6",
   "metadata": {},
   "outputs": [
    {
     "name": "stdout",
     "output_type": "stream",
     "text": [
      "a = 3.3333333333333335\n",
      "a = 3\n"
     ]
    }
   ],
   "source": [
    "#//소수점 절삭 연산자\n",
    "a = 10/3\n",
    "print('a = ' + str(a))\n",
    "a = 10//3\n",
    "print('a = ' + str(a))"
   ]
  },
  {
   "cell_type": "code",
   "execution_count": 1,
   "id": "82e66dcb",
   "metadata": {},
   "outputs": [
    {
     "name": "stdout",
     "output_type": "stream",
     "text": [
      "a = 8\n",
      "a = 81\n"
     ]
    }
   ],
   "source": [
    "#** 제곱연산자\n",
    "a = 2**3\n",
    "print('a = ' + str(a))\n",
    "a = 3**4\n",
    "print('a = ' + str(a))"
   ]
  },
  {
   "cell_type": "markdown",
   "id": "b9561c06",
   "metadata": {},
   "source": [
    "# 문자열(string)"
   ]
  },
  {
   "cell_type": "code",
   "execution_count": 47,
   "id": "ba1ba34a",
   "metadata": {},
   "outputs": [
    {
     "name": "stdout",
     "output_type": "stream",
     "text": [
      "a = hello world\n",
      "a = hello world\n",
      "a = hello worldhello worldhello world\n",
      "a = hello world\n",
      "a[0] = h\n",
      "a[1] = e\n",
      "a[2] = l\n",
      "a[3] = l\n",
      "a[4] = o\n",
      "a[0:5] = hello\n"
     ]
    }
   ],
   "source": [
    "a = 'hello world'\n",
    "print('a = ' + a)\n",
    "a = \"hello world\"\n",
    "print('a = ' + a)\n",
    "a = \"hello world\"*3\n",
    "print('a = ' + a)\n",
    "\n",
    "a = 'hello world'\n",
    "print('a = ' + a)\n",
    "a = 'hello world'\n",
    "print('a[0] = ' + a[0])\n",
    "print('a[1] = ' + a[1])\n",
    "print('a[2] = ' + a[2])\n",
    "print('a[3] = ' + a[3])\n",
    "print('a[4] = ' + a[4])\n",
    "print('a[0:5] = ' + a[0:5])"
   ]
  },
  {
   "cell_type": "code",
   "execution_count": 51,
   "id": "c3a510d6",
   "metadata": {},
   "outputs": [
    {
     "name": "stdout",
     "output_type": "stream",
     "text": [
      "Today : 2023-03-15\n",
      "string length - Today is 10\n"
     ]
    }
   ],
   "source": [
    "date = '20230315'\n",
    "year = date[0:4]\n",
    "month = date[4:6]\n",
    "day = date[6:]\n",
    "date2 = year + '-' + month + '-' + day\n",
    "print('Today : ' + date2)\n",
    "print('string length - Today is ' + str(len(date2)))"
   ]
  },
  {
   "cell_type": "code",
   "execution_count": 54,
   "id": "4658e505",
   "metadata": {},
   "outputs": [
    {
     "name": "stdout",
     "output_type": "stream",
     "text": [
      "나는 빨강을 좋아합니다.\n",
      "나는 초록을 좋아합니다.\n"
     ]
    }
   ],
   "source": [
    "color = '빨강'\n",
    "fmt = '나는 %s을 좋아합니다.' % color\n",
    "print(fmt)\n",
    "color = '초록'\n",
    "fmt = '나는 %s을 좋아합니다.' % color\n",
    "print(fmt)"
   ]
  },
  {
   "cell_type": "code",
   "execution_count": 59,
   "id": "386a5728",
   "metadata": {},
   "outputs": [
    {
     "name": "stdout",
     "output_type": "stream",
     "text": [
      "sum : 280, avg : 93.333333\n",
      "result type -<class 'tuple'>\n"
     ]
    }
   ],
   "source": [
    "kor = 88\n",
    "eng = 95\n",
    "math = 97\n",
    "sum = kor+eng+math\n",
    "avg = sum/3\n",
    "\n",
    "fmt = 'sum : %d, avg : %f' %(sum, avg)\n",
    "result = (sum, avg)\n",
    "fmt = 'sum : %d, avg : %f' %result\n",
    "print(fmt)\n",
    "\n",
    "print('result type -' + str(type(result)))"
   ]
  },
  {
   "cell_type": "markdown",
   "id": "4c52d293",
   "metadata": {},
   "source": [
    "# Tuple - (a,b), List - [1,2], Dict - {'a':1}"
   ]
  },
  {
   "cell_type": "code",
   "execution_count": 60,
   "id": "2f0bf786",
   "metadata": {},
   "outputs": [
    {
     "name": "stdout",
     "output_type": "stream",
     "text": [
      "input your name : hong kil do1ng\n",
      "name is hong kil do1ng\n"
     ]
    }
   ],
   "source": [
    "name = input('input your name : ')\n",
    "print('name is ' + name) "
   ]
  },
  {
   "cell_type": "code",
   "execution_count": 65,
   "id": "0a7ce7b7",
   "metadata": {},
   "outputs": [
    {
     "name": "stdout",
     "output_type": "stream",
     "text": [
      "input integer value : 30\n",
      "value is 30\n",
      "input integer value : 40\n",
      "value is 40\n",
      "sum = 70\n",
      "sub = -10\n",
      "mul = 1200\n",
      "div = 0.75\n"
     ]
    }
   ],
   "source": [
    "a = input('input integer value : ')\n",
    "print('value is ' + a)\n",
    "b = input('input integer value : ')\n",
    "print('value is ' + b)\n",
    "a = int(a)\n",
    "b = int(b)\n",
    "print('sum = ' + str(a+b))\n",
    "print('sub = ' + str(a-b))\n",
    "print('mul = ' + str(a*b))\n",
    "print('div = ' + str(a/b))"
   ]
  },
  {
   "cell_type": "code",
   "execution_count": null,
   "id": "77f4cca1",
   "metadata": {},
   "outputs": [],
   "source": [
    "price = int(input('물건 가격:'))\n",
    "num = int(input('구매 개수:'))\n",
    "pay = int(input('지불 금액:'))\n",
    "change = pay - price*num\n",
    "print('물건 가격 : %d, 구매 개수 : %d, 지불 금액 : %d => 거스름 돈 : %d' + (price, num, pay, change))"
   ]
  },
  {
   "cell_type": "code",
   "execution_count": 73,
   "id": "29eabd6c",
   "metadata": {},
   "outputs": [
    {
     "name": "stdout",
     "output_type": "stream",
     "text": [
      "My name is John, I'm 36\n",
      "My name is John, I'm John\n",
      "My name is John, I'm 36\n"
     ]
    }
   ],
   "source": [
    "txt1 = \"My name is {fname}, I'm {age}\".format(fname = \"John\", age = 36)\n",
    "txt2 = \"My name is {0}, I'm {0}\".format(\"John\", 36)\n",
    "txt3 = \"My name is {}, I'm {}\".format(\"John\", 36)\n",
    "print(txt1)\n",
    "print(txt2)\n",
    "print(txt3)"
   ]
  },
  {
   "cell_type": "markdown",
   "id": "20585ae2",
   "metadata": {},
   "source": [
    "# Python Logic - if and for..."
   ]
  },
  {
   "cell_type": "code",
   "execution_count": 82,
   "id": "3743e58f",
   "metadata": {},
   "outputs": [
    {
     "name": "stdout",
     "output_type": "stream",
     "text": [
      "input x value : 11\n",
      "positive\n"
     ]
    }
   ],
   "source": [
    "x = input('input x value : ')\n",
    "x = int(x)\n",
    "if x>0 :\n",
    "    print('positive')\n",
    "elif x > 10 :\n",
    "    print('x > 10')\n",
    "else :\n",
    "    print('negative')"
   ]
  },
  {
   "cell_type": "code",
   "execution_count": 83,
   "id": "e0c9ae10",
   "metadata": {},
   "outputs": [
    {
     "name": "stdout",
     "output_type": "stream",
     "text": [
      "5>2 : True\n",
      "5<2 : False\n",
      "5==2 : False\n",
      "5!=2 : True\n",
      "5<=2 : False\n",
      "5>=2 : True\n"
     ]
    }
   ],
   "source": [
    "a = 5\n",
    "b = 2\n",
    "print(\"{a}>{b} : \".format(a = a, b = b) + str(a>b))\n",
    "print(\"{a}<{b} : \".format(a = a, b = b) + str(a<b))\n",
    "print(\"{a}=={b} : \".format(a = a, b = b) + str(a==b))\n",
    "print(\"{a}!={b} : \".format(a = a, b = b) + str(a!=b))\n",
    "print(\"{a}<={b} : \".format(a = a, b = b) + str(a<=b))\n",
    "print(\"{a}>={b} : \".format(a = a, b = b) + str(a>=b))"
   ]
  },
  {
   "cell_type": "code",
   "execution_count": 2,
   "id": "34d548b2",
   "metadata": {},
   "outputs": [
    {
     "name": "stdout",
     "output_type": "stream",
     "text": [
      "and type : <class 'bool'>, value : False\n",
      "or type : <class 'bool'>, value : True\n",
      "== type : <class 'int'>, value : 70\n",
      "not type : <class 'bool'>, value : False\n",
      "x%2 == 0 type : <class 'bool'>, value : True\n",
      "not x%2 == 0 type : <class 'bool'>, value : True\n"
     ]
    }
   ],
   "source": [
    "#논리 연산자 & || !=> and or not\n",
    "kor = 60\n",
    "eng = 90\n",
    "comp = kor >= 70 and eng >= 90\n",
    "print('and type : ' + str(type(comp)) + ', value : ' + str(comp))\n",
    "comp = kor >= 70 or eng >= 90\n",
    "print('or type : ' + str(type(comp)) + ', value : ' + str(comp))\n",
    "\n",
    "comp = kor = 70\n",
    "print('== type : ' + str(type(comp)) + ', value : ' + str(comp))\n",
    "comp = not kor == 70\n",
    "print('not type : ' + str(type(comp)) + ', value : ' + str(comp))\n",
    "\n",
    "x = 5\n",
    "comp = not x%2 ==0\n",
    "print('x%2 == 0 type : '+str(type(comp))+', value : ' + str(comp))\n",
    "comp = not x%2 == 0\n",
    "print('not x%2 == 0 type : '+str(type(comp))+', value : ' + str(comp))"
   ]
  },
  {
   "cell_type": "code",
   "execution_count": 89,
   "id": "31e381e3",
   "metadata": {},
   "outputs": [
    {
     "name": "stdout",
     "output_type": "stream",
     "text": [
      "정수를 입력하세요 : 90\n",
      "입력된 정수 : 90입니다.\n",
      "입력된 정수는 100~1000사이에 있지 않습니다!\n"
     ]
    }
   ],
   "source": [
    "num = input('정수를 입력하세요 : ')\n",
    "num = int(num)\n",
    "result = '입력된 정수는 100~1000사이에 있지 않습니다!'\n",
    "if num >= 100 and num <= 1000 :\n",
    "    result = '입력된 정수는 100~1000사이에 있습니다!'\n",
    "    \n",
    "print('입력된 정수 : {}'.format(num) + '입니다.')\n",
    "print('%s' %result)"
   ]
  },
  {
   "cell_type": "code",
   "execution_count": 90,
   "id": "2de61269",
   "metadata": {},
   "outputs": [
    {
     "name": "stdout",
     "output_type": "stream",
     "text": [
      "영어 소문자 하나를 입력하세요:t\n",
      "t -> 자음\n"
     ]
    }
   ],
   "source": [
    "char = input('영어 소문자 하나를 입력하세요:')\n",
    "if(char == 'a' or char == 'e' or char == 'i' or char == 'o' or char == 'u') :\n",
    "    print('%s -> 모음' %char)\n",
    "else :\n",
    "    print('%s -> 자음' %char)"
   ]
  },
  {
   "cell_type": "code",
   "execution_count": 96,
   "id": "c265b707",
   "metadata": {},
   "outputs": [
    {
     "name": "stdout",
     "output_type": "stream",
     "text": [
      "월을 입력해주세요:2\n",
      "2월은겨울입니다\n"
     ]
    }
   ],
   "source": [
    "month = int(input('월을 입력해주세요:'))\n",
    "\n",
    "if month >= 3 and month <= 5 :\n",
    "    season = '봄'\n",
    "    print(month, '월은',season,'입니다',sep='')\n",
    "    \n",
    "elif month >= 6 and month <= 8 :\n",
    "    season = '여름'\n",
    "    print(month, '월은',season,'입니다',sep='')\n",
    "    \n",
    "elif month >= 9 and month <= 11 :\n",
    "    season = '가을'\n",
    "    print(month, '월은',season,'입니다',sep='')\n",
    "\n",
    "elif month == 12 or month == 1 or month ==2:\n",
    "    season = '겨울'\n",
    "    print(month, '월은',season,'입니다',sep='')"
   ]
  },
  {
   "cell_type": "code",
   "execution_count": 97,
   "id": "f8a82cf9",
   "metadata": {},
   "outputs": [
    {
     "name": "stdout",
     "output_type": "stream",
     "text": [
      "안녕하세요!\n",
      "안녕하세요!\n",
      "안녕하세요!\n",
      "안녕하세요!\n",
      "안녕하세요!\n"
     ]
    }
   ],
   "source": [
    "for x in range(5):\n",
    "    print('안녕하세요!')"
   ]
  },
  {
   "cell_type": "markdown",
   "id": "bee052cc",
   "metadata": {},
   "source": [
    "# 반복문 ... for, while"
   ]
  },
  {
   "cell_type": "code",
   "execution_count": 11,
   "id": "57bc62de",
   "metadata": {},
   "outputs": [
    {
     "name": "stdout",
     "output_type": "stream",
     "text": [
      "[0]hello world\n",
      "[1]hello world\n",
      "[2]hello world\n",
      "[3]hello world\n",
      "[4]hello world\n",
      "2\n",
      "3\n",
      "4\n",
      "5\n",
      "==============================\n",
      "==============================\n",
      "apple\n",
      "apple\n",
      "banana\n",
      "cherry\n",
      "cherry\n",
      "==============================\n",
      "apple apple\n",
      "apple banana\n",
      "apple cherry\n",
      "banana apple\n",
      "banana banana\n",
      "banana cherry\n",
      "cherry apple\n",
      "cherry banana\n",
      "cherry cherry\n",
      "==============================\n",
      "0\n",
      "1\n",
      "2\n",
      "3\n",
      "4\n",
      "5\n",
      "6\n"
     ]
    }
   ],
   "source": [
    "cnt = 5\n",
    "for i in range(cnt): #for(i = 0; i<cnt(5); i++)\n",
    "    print('[{}]hello world'.format(i))\n",
    "\n",
    "for x in range(2,6): #start, finish\n",
    "    print(x)\n",
    "print('==='*10)\n",
    "\n",
    "\n",
    "print('==='*10)\n",
    "fruits = ['apple', 'banana', 'cherry']\n",
    "for fruit in fruits:\n",
    "    print(fruit)\n",
    "    if fruit == 'banana':\n",
    "        continue #break\n",
    "    print(fruit)\n",
    "    \n",
    "print('==='*10)\n",
    "for x in fruits :\n",
    "    for y in fruits:\n",
    "        print(x,y)\n",
    "        \n",
    "print('==='*10)\n",
    "for x in [0,1,2,3,4,5,6]:\n",
    "    print(x)"
   ]
  },
  {
   "cell_type": "markdown",
   "id": "3bfede3a",
   "metadata": {},
   "source": [
    "# 구구단"
   ]
  },
  {
   "cell_type": "code",
   "execution_count": 123,
   "id": "67694f39",
   "metadata": {},
   "outputs": [
    {
     "name": "stdout",
     "output_type": "stream",
     "text": [
      "2 X 1 = 2\t3 X 1 = 3\t4 X 1 = 4\t5 X 1 = 5\t6 X 1 = 6\t7 X 1 = 7\t8 X 1 = 8\t9 X 1 = 9\t\n",
      "2 X 2 = 4\t3 X 2 = 6\t4 X 2 = 8\t5 X 2 = 10\t6 X 2 = 12\t7 X 2 = 14\t8 X 2 = 16\t9 X 2 = 18\t\n",
      "2 X 3 = 6\t3 X 3 = 9\t4 X 3 = 12\t5 X 3 = 15\t6 X 3 = 18\t7 X 3 = 21\t8 X 3 = 24\t9 X 3 = 27\t\n",
      "2 X 4 = 8\t3 X 4 = 12\t4 X 4 = 16\t5 X 4 = 20\t6 X 4 = 24\t7 X 4 = 28\t8 X 4 = 32\t9 X 4 = 36\t\n",
      "2 X 5 = 10\t3 X 5 = 15\t4 X 5 = 20\t5 X 5 = 25\t6 X 5 = 30\t7 X 5 = 35\t8 X 5 = 40\t9 X 5 = 45\t\n",
      "2 X 6 = 12\t3 X 6 = 18\t4 X 6 = 24\t5 X 6 = 30\t6 X 6 = 36\t7 X 6 = 42\t8 X 6 = 48\t9 X 6 = 54\t\n",
      "2 X 7 = 14\t3 X 7 = 21\t4 X 7 = 28\t5 X 7 = 35\t6 X 7 = 42\t7 X 7 = 49\t8 X 7 = 56\t9 X 7 = 63\t\n",
      "2 X 8 = 16\t3 X 8 = 24\t4 X 8 = 32\t5 X 8 = 40\t6 X 8 = 48\t7 X 8 = 56\t8 X 8 = 64\t9 X 8 = 72\t\n",
      "2 X 9 = 18\t3 X 9 = 27\t4 X 9 = 36\t5 X 9 = 45\t6 X 9 = 54\t7 X 9 = 63\t8 X 9 = 72\t9 X 9 = 81\t\n"
     ]
    }
   ],
   "source": [
    "cnt = 10\n",
    "for i in range(1,cnt,1):\n",
    "    line = ''\n",
    "    for j in range(2,cnt,1):\n",
    "        line += '{} X {} = {}\\t'.format(j,i,i*j)\n",
    "    print(line)"
   ]
  },
  {
   "cell_type": "code",
   "execution_count": 119,
   "id": "23208d65",
   "metadata": {},
   "outputs": [
    {
     "name": "stdout",
     "output_type": "stream",
     "text": [
      "1\n",
      "4\n",
      "7\n",
      "10\n",
      "13\n",
      "16\n",
      "19\n",
      "22\n",
      "25\n",
      "28\n",
      "31\n",
      "34\n",
      "37\n",
      "40\n",
      "43\n",
      "46\n",
      "49\n",
      "52\n",
      "55\n",
      "58\n",
      "61\n",
      "64\n",
      "67\n",
      "70\n",
      "73\n",
      "76\n",
      "79\n",
      "82\n",
      "85\n",
      "88\n",
      "91\n",
      "94\n",
      "97\n"
     ]
    }
   ],
   "source": [
    "for i in range(1,100,3):\n",
    "    print(i)"
   ]
  },
  {
   "cell_type": "markdown",
   "id": "834c2253",
   "metadata": {},
   "source": [
    "# List"
   ]
  },
  {
   "cell_type": "code",
   "execution_count": 12,
   "id": "0b2613ca",
   "metadata": {},
   "outputs": [
    {
     "name": "stdout",
     "output_type": "stream",
     "text": [
      "['red', 'green', 'blue', 'black', 'white']\n",
      "<class 'list'>\n",
      "red\n",
      "green\n",
      "['green', 'blue', 'black']\n",
      "<class 'list'>\n",
      "==============================\n",
      "[1, 3, 5, 7, 9, 11, 13, 15, 17, 19]\n",
      "[7, 9, 11, 13]\n",
      "1\n",
      "3\n",
      "5\n",
      "7\n",
      "9\n",
      "11\n",
      "13\n",
      "15\n",
      "17\n",
      "19\n",
      "==============================\n",
      "사자\n",
      "호랑이\n",
      "원숭이\n",
      "곰\n",
      "사슴\n",
      "==============================\n",
      "['무궁화', '장미', '개나리']\n",
      "['무궁화', '장미', '개나리', '벚꽃']\n",
      "['무궁화', '개나리', '벚꽃']\n"
     ]
    }
   ],
   "source": [
    "color = ['red', 'green', 'blue', 'black', 'white']\n",
    "print(color)\n",
    "print(type(color))\n",
    "print(color[0])\n",
    "print(color[1])\n",
    "print(color[1:4])\n",
    "print(type(color[1:4]))\n",
    "print('==='*10)\n",
    "nums = list(range(1,21,2))\n",
    "print(nums)\n",
    "print(nums[3:7])\n",
    "for x in nums:\n",
    "    print(x)\n",
    "print('==='*10)\n",
    "    \n",
    "animals = ['사자', '호랑이', '원숭이', '곰', '사슴']\n",
    "i = 0;\n",
    "while i < len(animals):\n",
    "    print(animals[i])\n",
    "    i = i + 1\n",
    "print('==='*10)\n",
    "\n",
    "flower = ['무궁화', '장미', '개나리']\n",
    "print(flower)\n",
    "flower.append('벚꽃')\n",
    "print(flower)\n",
    "flower.remove('장미')\n",
    "print(flower)"
   ]
  },
  {
   "cell_type": "code",
   "execution_count": 142,
   "id": "7a44e18e",
   "metadata": {},
   "outputs": [
    {
     "name": "stdout",
     "output_type": "stream",
     "text": [
      "성적을 입력하세요(종료 시 -1 입력):1\n",
      "성적을 입력하세요(종료 시 -1 입력):4\n",
      "성적을 입력하세요(종료 시 -1 입력):6\n",
      "성적을 입력하세요(종료 시 -1 입력):7\n",
      "성적을 입력하세요(종료 시 -1 입력):8\n",
      "성적을 입력하세요(종료 시 -1 입력):9\n",
      "성적을 입력하세요(종료 시 -1 입력):-1\n",
      "합계 : 35, 평균 : 5.83\n"
     ]
    }
   ],
   "source": [
    "scores = []\n",
    "while True:\n",
    "    x = int(input('성적을 입력하세요(종료 시 -1 입력):'))\n",
    "    if x == -1:\n",
    "        break\n",
    "    else:\n",
    "        scores.append(x)\n",
    "\n",
    "sum = 0\n",
    "\n",
    "for score in scores:\n",
    "    sum = sum + score\n",
    "avg = sum / len(scores)\n",
    "print('합계 : %d, 평균 : %.2f' %(sum, avg))"
   ]
  },
  {
   "cell_type": "code",
   "execution_count": 143,
   "id": "9d9b20dc",
   "metadata": {},
   "outputs": [
    {
     "name": "stdout",
     "output_type": "stream",
     "text": [
      "['apple', 'banana']\n"
     ]
    }
   ],
   "source": [
    "fruit = [\"apple\", \"banana\", \"cherry\", \"kiwi\", \"mango\"]\n",
    "newlist = []\n",
    "newlist = [x for x in fruits]\n",
    "newlist = [x for x in fruits if 'a' in x]\n",
    "\n",
    "print(newlist)"
   ]
  },
  {
   "cell_type": "code",
   "execution_count": 13,
   "id": "4936d650",
   "metadata": {},
   "outputs": [
    {
     "name": "stdout",
     "output_type": "stream",
     "text": [
      "[[1, 2, 3, 10], [4, 5, 6, 10], [7, 8, 9, 10]]\n",
      "<class 'list'>\n",
      "row_length : 3\n"
     ]
    },
    {
     "ename": "NameError",
     "evalue": "name 'j_len' is not defined",
     "output_type": "error",
     "traceback": [
      "\u001b[1;31m---------------------------------------------------------------------------\u001b[0m",
      "\u001b[1;31mNameError\u001b[0m                                 Traceback (most recent call last)",
      "\u001b[1;32m~\\AppData\\Local\\Temp\\ipykernel_3512\\2724477333.py\u001b[0m in \u001b[0;36m<module>\u001b[1;34m\u001b[0m\n\u001b[0;32m      6\u001b[0m \u001b[1;31m#j_len = len(numbers[i])\u001b[0m\u001b[1;33m\u001b[0m\u001b[1;33m\u001b[0m\u001b[0m\n\u001b[0;32m      7\u001b[0m \u001b[0mprint\u001b[0m\u001b[1;33m(\u001b[0m\u001b[1;34m'row_length : '\u001b[0m \u001b[1;33m+\u001b[0m \u001b[0mstr\u001b[0m\u001b[1;33m(\u001b[0m\u001b[0mi_len\u001b[0m\u001b[1;33m)\u001b[0m\u001b[1;33m)\u001b[0m\u001b[1;33m\u001b[0m\u001b[1;33m\u001b[0m\u001b[0m\n\u001b[1;32m----> 8\u001b[1;33m \u001b[0mprint\u001b[0m\u001b[1;33m(\u001b[0m\u001b[1;34m'col_length : '\u001b[0m \u001b[1;33m+\u001b[0m \u001b[0mstr\u001b[0m\u001b[1;33m(\u001b[0m\u001b[0mj_len\u001b[0m\u001b[1;33m)\u001b[0m\u001b[1;33m)\u001b[0m\u001b[1;33m\u001b[0m\u001b[1;33m\u001b[0m\u001b[0m\n\u001b[0m\u001b[0;32m      9\u001b[0m \u001b[1;32mfor\u001b[0m \u001b[0mi\u001b[0m \u001b[1;32min\u001b[0m \u001b[0mrange\u001b[0m\u001b[1;33m(\u001b[0m\u001b[0mlen\u001b[0m\u001b[1;33m(\u001b[0m\u001b[0mnumbers\u001b[0m\u001b[1;33m)\u001b[0m\u001b[1;33m)\u001b[0m\u001b[1;33m:\u001b[0m\u001b[1;33m\u001b[0m\u001b[1;33m\u001b[0m\u001b[0m\n\u001b[0;32m     10\u001b[0m     \u001b[1;32mfor\u001b[0m \u001b[0mj\u001b[0m \u001b[1;32min\u001b[0m \u001b[0mrange\u001b[0m\u001b[1;33m(\u001b[0m\u001b[0mlen\u001b[0m\u001b[1;33m(\u001b[0m\u001b[0mnumbers\u001b[0m\u001b[1;33m[\u001b[0m\u001b[0mi\u001b[0m\u001b[1;33m]\u001b[0m\u001b[1;33m)\u001b[0m\u001b[1;33m)\u001b[0m\u001b[1;33m:\u001b[0m\u001b[1;33m\u001b[0m\u001b[1;33m\u001b[0m\u001b[0m\n",
      "\u001b[1;31mNameError\u001b[0m: name 'j_len' is not defined"
     ]
    }
   ],
   "source": [
    "numbers = [ [1,2,3, 10],[4,5,6, 10],[7,8,9, 10] ]\n",
    "print(numbers)\n",
    "print(type(numbers))\n",
    "\n",
    "i_len = len(numbers)\n",
    "j_len = len(numbers[i])\n",
    "print('row_length : ' + str(i_len))\n",
    "print('col_length : ' + str(j_len))\n",
    "for i in range(len(numbers)):\n",
    "    for j in range(len(numbers[i])):\n",
    "        print('numbers[{}][{}]={}'.format(i, j, numbers[i][j]))"
   ]
  },
  {
   "cell_type": "code",
   "execution_count": 9,
   "id": "60072f31",
   "metadata": {},
   "outputs": [
    {
     "name": "stdout",
     "output_type": "stream",
     "text": [
      "[[75, 83, 90], [86, 86, 73], [76, 95, 83], [89, 96, 69], [89, 76, 93]]\n"
     ]
    },
    {
     "ename": "NameError",
     "evalue": "name 'i' is not defined",
     "output_type": "error",
     "traceback": [
      "\u001b[1;31m---------------------------------------------------------------------------\u001b[0m",
      "\u001b[1;31mNameError\u001b[0m                                 Traceback (most recent call last)",
      "\u001b[1;32m~\\AppData\\Local\\Temp\\ipykernel_3512\\3232548975.py\u001b[0m in \u001b[0;36m<module>\u001b[1;34m\u001b[0m\n\u001b[0;32m      9\u001b[0m \u001b[1;33m\u001b[0m\u001b[0m\n\u001b[0;32m     10\u001b[0m \u001b[0mrow_len\u001b[0m \u001b[1;33m=\u001b[0m \u001b[0mlen\u001b[0m\u001b[1;33m(\u001b[0m\u001b[0mscores\u001b[0m\u001b[1;33m)\u001b[0m\u001b[1;33m\u001b[0m\u001b[1;33m\u001b[0m\u001b[0m\n\u001b[1;32m---> 11\u001b[1;33m \u001b[0mcol_len\u001b[0m \u001b[1;33m=\u001b[0m \u001b[0mlen\u001b[0m\u001b[1;33m(\u001b[0m\u001b[0mscores\u001b[0m\u001b[1;33m[\u001b[0m\u001b[0mi\u001b[0m\u001b[1;33m]\u001b[0m\u001b[1;33m)\u001b[0m\u001b[1;33m\u001b[0m\u001b[1;33m\u001b[0m\u001b[0m\n\u001b[0m\u001b[0;32m     12\u001b[0m \u001b[0mprint\u001b[0m\u001b[1;33m(\u001b[0m\u001b[1;34m'row_length : '\u001b[0m \u001b[1;33m+\u001b[0m \u001b[0mstr\u001b[0m\u001b[1;33m(\u001b[0m\u001b[0mrow_len\u001b[0m\u001b[1;33m)\u001b[0m\u001b[1;33m)\u001b[0m\u001b[1;33m\u001b[0m\u001b[1;33m\u001b[0m\u001b[0m\n\u001b[0;32m     13\u001b[0m \u001b[0mprint\u001b[0m\u001b[1;33m(\u001b[0m\u001b[1;34m'col_length : '\u001b[0m \u001b[1;33m+\u001b[0m \u001b[0mstr\u001b[0m\u001b[1;33m(\u001b[0m\u001b[0mcol_len\u001b[0m\u001b[1;33m)\u001b[0m\u001b[1;33m)\u001b[0m\u001b[1;33m\u001b[0m\u001b[1;33m\u001b[0m\u001b[0m\n",
      "\u001b[1;31mNameError\u001b[0m: name 'i' is not defined"
     ]
    }
   ],
   "source": [
    "scores=[\n",
    "    [75,83,90],\n",
    "    [86,86,73],\n",
    "    [76,95,83],\n",
    "    [89,96,69],\n",
    "    [89,76,93],\n",
    "]\n",
    "print(scores)\n",
    "\n",
    "row_len = len(scores)\n",
    "col_len = len(scores[i])\n",
    "print('row_length : ' + str(row_len))\n",
    "print('col_length : ' + str(col_len))\n",
    "\n",
    "for row in range(len(scores)):\n",
    "    sum = 0\n",
    "    avg = 0.0\n",
    "    for col in range(len(scores[row])):\n",
    "        sum = sum + scores[row][col]\n",
    "    avg = sum / len(scores[row])\n",
    "    print('{}번째 학생의 점수 합계 : {}, 평균 : {:.2f}'.format(row+1, sum, avg))"
   ]
  },
  {
   "cell_type": "markdown",
   "id": "cab998b2",
   "metadata": {},
   "source": [
    "# Function"
   ]
  },
  {
   "cell_type": "code",
   "execution_count": 163,
   "id": "58eedd1b",
   "metadata": {},
   "outputs": [],
   "source": [
    "def hello(name):\n",
    "    print('{} : This is hello function'.format(name))"
   ]
  },
  {
   "cell_type": "code",
   "execution_count": 167,
   "id": "7d6e899c",
   "metadata": {},
   "outputs": [
    {
     "name": "stdout",
     "output_type": "stream",
     "text": [
      "apple : This is hello function\n",
      "banana : This is hello function\n",
      "cherry : This is hello function\n",
      "kiwi : This is hello function\n",
      "mango : This is hello function\n"
     ]
    }
   ],
   "source": [
    "fruits = [\"apple\", \"banana\", \"cherry\", \"kiwi\", \"mango\"]\n",
    "for x in fruits:\n",
    "    hello(x)"
   ]
  },
  {
   "cell_type": "code",
   "execution_count": 168,
   "id": "4f75a572",
   "metadata": {},
   "outputs": [],
   "source": [
    "def sum(a,b):\n",
    "    return a+b"
   ]
  },
  {
   "cell_type": "code",
   "execution_count": 169,
   "id": "cabd746a",
   "metadata": {},
   "outputs": [
    {
     "data": {
      "text/plain": [
       "20"
      ]
     },
     "execution_count": 169,
     "metadata": {},
     "output_type": "execute_result"
    }
   ],
   "source": [
    "sum(10,10)"
   ]
  },
  {
   "cell_type": "code",
   "execution_count": 7,
   "id": "b4f5643f",
   "metadata": {},
   "outputs": [],
   "source": [
    "def calc(a,b):\n",
    "    sum = a+b\n",
    "    avg = sum/2\n",
    "    return sum, avg"
   ]
  },
  {
   "cell_type": "code",
   "execution_count": 8,
   "id": "15282ea8",
   "metadata": {},
   "outputs": [
    {
     "name": "stdout",
     "output_type": "stream",
     "text": [
      "(20, 10.0)\n",
      "<class 'tuple'>\n"
     ]
    }
   ],
   "source": [
    "ret = calc(10,10)\n",
    "print(ret)\n",
    "print(type(ret))"
   ]
  },
  {
   "cell_type": "code",
   "execution_count": 178,
   "id": "fad1f79a",
   "metadata": {},
   "outputs": [],
   "source": [
    "def sum(start,end):\n",
    "    hap = 0\n",
    "    for i in range(start, end+1):\n",
    "        hap = hap + i\n",
    "    return hap\n",
    "    "
   ]
  },
  {
   "cell_type": "code",
   "execution_count": 179,
   "id": "07d7e4fd",
   "metadata": {},
   "outputs": [
    {
     "name": "stdout",
     "output_type": "stream",
     "text": [
      "1~10의 정수의 합계 : 55\n"
     ]
    },
    {
     "data": {
      "text/plain": [
       "401"
      ]
     },
     "execution_count": 179,
     "metadata": {},
     "output_type": "execute_result"
    }
   ],
   "source": [
    "start = 1\n",
    "end = 10\n",
    "hap = sum(start,end)\n",
    "print('%d~%d의 정수의 합계 : %d' %(start, end, hap))\n",
    "#print('{}~{}의 정수의 합계 : {}'.format(start,end,hap))\n",
    "sum(1,10)\n",
    "sum(100,200)\n",
    "sum(200,201)"
   ]
  },
  {
   "cell_type": "markdown",
   "id": "130e3190",
   "metadata": {},
   "source": [
    "# File I/O"
   ]
  },
  {
   "cell_type": "code",
   "execution_count": 180,
   "id": "4fc55718",
   "metadata": {},
   "outputs": [
    {
     "name": "stdout",
     "output_type": "stream",
     "text": [
      "sample.txt 파일쓰기 완료\n"
     ]
    }
   ],
   "source": [
    "file = open('sample.txt', 'w')\n",
    "file.write('안녕하세요. KCCI 수업 중 입니다.')\n",
    "file.close()\n",
    "print('sample.txt 파일쓰기 완료')"
   ]
  },
  {
   "cell_type": "code",
   "execution_count": 181,
   "id": "a10712f3",
   "metadata": {},
   "outputs": [
    {
     "name": "stdout",
     "output_type": "stream",
     "text": [
      "안소영 97 80 93 97 93\n",
      "\n",
      "안소영 97 80 93 97 93\n",
      "정예린 86 100 93 86 90\n",
      "\n",
      "안소영 97 80 93 97 93\n",
      "정예린 86 100 93 86 90\n",
      "김세린 91 88 99 79 92\n",
      "\n",
      "안소영 97 80 93 97 93\n",
      "정예린 86 100 93 86 90\n",
      "김세린 91 88 99 79 92\n",
      "연수정 86 100 93 89 92\n",
      "\n",
      "안소영 97 80 93 97 93\n",
      "정예린 86 100 93 86 90\n",
      "김세린 91 88 99 79 92\n",
      "연수정 86 100 93 89 92\n",
      "박지아 80 100 95 89 90\n",
      "\n"
     ]
    }
   ],
   "source": [
    "scores=['안소영 97 80 93 97 93',\n",
    "       '정예린 86 100 93 86 90',\n",
    "       '김세린 91 88 99 79 92',\n",
    "       '연수정 86 100 93 89 92',\n",
    "       '박지아 80 100 95 89 90']\n",
    "data = ''\n",
    "for item in scores:\n",
    "    data = data + item + '\\n'\n",
    "    print(data)\n",
    "    \n",
    "file = open('scores.txt', 'w')\n",
    "file.write(data)\n",
    "file.close()"
   ]
  },
  {
   "cell_type": "code",
   "execution_count": 183,
   "id": "f61b9b49",
   "metadata": {},
   "outputs": [
    {
     "name": "stdout",
     "output_type": "stream",
     "text": [
      "<class 'list'>\n",
      "['안소영 97 80 93 97 93\\n', '정예린 86 100 93 86 90\\n', '김세린 91 88 99 79 92\\n', '연수정 86 100 93 89 92\\n', '박지아 80 100 95 89 90\\n']\n",
      "안소영 97 80 93 97 93\n",
      "정예린 86 100 93 86 90\n",
      "김세린 91 88 99 79 92\n",
      "연수정 86 100 93 89 92\n",
      "박지아 80 100 95 89 90\n"
     ]
    }
   ],
   "source": [
    "file = open('scores.txt', 'r')\n",
    "lines = file.readlines()\n",
    "print(type(lines))\n",
    "print(lines)\n",
    "for line in lines:\n",
    "    print(line, end = '')\n",
    "file.close()"
   ]
  },
  {
   "cell_type": "markdown",
   "id": "c71b6998",
   "metadata": {},
   "source": [
    "# Class"
   ]
  },
  {
   "cell_type": "markdown",
   "id": "f81ee516",
   "metadata": {},
   "source": [
    "class [className]:\n",
    "    변수 a\n",
    "    변수 b\n",
    "    ...\n",
    "    def method1():\n",
    "        문장1\n",
    "        문장2\n",
    "        ...\n",
    "    def method2():\n",
    "        문장1\n",
    "        문장2\n",
    "        ..."
   ]
  },
  {
   "cell_type": "code",
   "execution_count": 14,
   "id": "f9b3f9dc",
   "metadata": {},
   "outputs": [],
   "source": [
    "class Fruit:\n",
    "    name='orange'\n",
    "    color='yellow'\n",
    "    \n",
    "    def taste(self):\n",
    "        print('새콤하다')\n",
    "    def vitamin(self):\n",
    "        print('비타민C가 풍부하다')"
   ]
  },
  {
   "cell_type": "code",
   "execution_count": 16,
   "id": "15cdd9f9",
   "metadata": {},
   "outputs": [
    {
     "name": "stdout",
     "output_type": "stream",
     "text": [
      "<__main__.Fruit object at 0x0000025B6372E880>\n",
      "<class '__main__.Fruit'>\n",
      "과일명 : orange\n",
      "색상 : yellow\n",
      "새콤하다\n",
      "비타민C가 풍부하다\n"
     ]
    }
   ],
   "source": [
    "orange = Fruit()\n",
    "print(orange)\n",
    "print(type(orange))\n",
    "\n",
    "print('과일명 : {}'.format(orange.name))\n",
    "print('색상 : {}'.format(orange.color))\n",
    "orange.taste()\n",
    "orange.vitamin()"
   ]
  },
  {
   "cell_type": "markdown",
   "id": "c7727037",
   "metadata": {},
   "source": [
    "//c/c++ programming\n",
    "class CParent\n",
    "{\n",
    "    int a = 10;\n",
    "    int b = 20;\n",
    "    //생성자\n",
    "    CParent(){cout<<\"ctor\"<<endl;}\n",
    "    //사용자 정의 생성자\n",
    "    CParent(int a,int b)\n",
    "    {\n",
    "        this.a = a;\n",
    "        this.b = b;\n",
    "        cout<<\"ctor\"<<endl;\n",
    "    }\n",
    "    void Age(this){}\n",
    "    ~CParent(){cout<<\"dtor\"<<endl;}\n",
    "}"
   ]
  },
  {
   "cell_type": "code",
   "execution_count": 20,
   "id": "d243db78",
   "metadata": {},
   "outputs": [
    {
     "name": "stdout",
     "output_type": "stream",
     "text": [
      "반지름 : 10\n",
      "원의 면적 : 314.16\n",
      "원주의 길이 : 62.83\n"
     ]
    }
   ],
   "source": [
    "class Circle:\n",
    "    radius=10\n",
    "    def getArea(self):\n",
    "        area = 3.141592*self.radius*self.radius\n",
    "        return area\n",
    "    \n",
    "    def getCircum(self):\n",
    "        circum = 2*3.141592*self.radius\n",
    "        return circum\n",
    "cir = Circle()\n",
    "\n",
    "print('반지름 : %d' %cir.radius)\n",
    "print('원의 면적 : %.2f' %cir.getArea())\n",
    "print('원주의 길이 : %.2f' %cir.getCircum())"
   ]
  },
  {
   "cell_type": "code",
   "execution_count": null,
   "id": "6eeb28ca",
   "metadata": {},
   "outputs": [],
   "source": []
  },
  {
   "cell_type": "code",
   "execution_count": null,
   "id": "12dd7fcb",
   "metadata": {},
   "outputs": [],
   "source": [
    "print('radius : {}'.format(cir.radius))"
   ]
  },
  {
   "cell_type": "code",
   "execution_count": null,
   "id": "b35e4fc4",
   "metadata": {},
   "outputs": [],
   "source": [
    "print('circle area : {:0.2f}'.format(cir.getArea))"
   ]
  },
  {
   "cell_type": "code",
   "execution_count": null,
   "id": "0fdb64cd",
   "metadata": {},
   "outputs": [],
   "source": [
    "print('circle circum : {:0.2f}'.format(cir.getCircum))"
   ]
  },
  {
   "cell_type": "code",
   "execution_count": 25,
   "id": "38ccbd5d",
   "metadata": {},
   "outputs": [],
   "source": [
    "class Student:\n",
    "    name = '황재호'\n",
    "    kor=80\n",
    "    eng=90\n",
    "    math=100\n",
    "    def getSum(self):\n",
    "        sum = self.kor+self.eng+self.math\n",
    "        return sum\n",
    "    def getAvg(self):\n",
    "        avg = self.getSum()/3\n",
    "        return avg"
   ]
  },
  {
   "cell_type": "code",
   "execution_count": 26,
   "id": "90da6988",
   "metadata": {},
   "outputs": [
    {
     "name": "stdout",
     "output_type": "stream",
     "text": [
      "student name : 황재호\n",
      "student kor : 80\n",
      "student eng : 90\n",
      "student math : 100\n",
      "student sum : 270\n",
      "student avg : 90.0\n"
     ]
    }
   ],
   "source": [
    "st = Student()\n",
    "print('student name : {}'.format(st.name))\n",
    "print('student kor : {}'.format(st.kor))\n",
    "print('student eng : {}'.format(st.eng))\n",
    "print('student math : {}'.format(st.math))\n",
    "print('student sum : {}'.format(st.getSum()))\n",
    "print('student avg : {}'.format(st.getAvg()))"
   ]
  },
  {
   "cell_type": "code",
   "execution_count": 27,
   "id": "46bd170b",
   "metadata": {},
   "outputs": [],
   "source": [
    "#class 생성자\n",
    "class Student:\n",
    "    name = '황재호'\n",
    "    kor=80\n",
    "    eng=90\n",
    "    math=100\n",
    "    \n",
    "    def __init__(self, name='황재호', kor=80, eng=90, math=100):\n",
    "        #코드작성\n",
    "        self.name = name\n",
    "        self.kor = kor\n",
    "        self.eng = eng\n",
    "        self.math = math\n",
    "        \n",
    "    def getSum(self):\n",
    "        sum = self.kor+self.eng+self.math\n",
    "        return sum\n",
    "    def getAvg(self):\n",
    "        avg = self.getSum()/3\n",
    "        return avg"
   ]
  },
  {
   "cell_type": "code",
   "execution_count": 28,
   "id": "8bc1e3fd",
   "metadata": {},
   "outputs": [
    {
     "name": "stdout",
     "output_type": "stream",
     "text": [
      "student name : 황재호\n",
      "student kor : 80\n",
      "student eng : 90\n",
      "student math : 100\n",
      "student sum : 270\n",
      "student avg : 90.0\n"
     ]
    }
   ],
   "source": [
    "st = Student()\n",
    "print('student name : {}'.format(st.name))\n",
    "print('student kor : {}'.format(st.kor))\n",
    "print('student eng : {}'.format(st.eng))\n",
    "print('student math : {}'.format(st.math))\n",
    "print('student sum : {}'.format(st.getSum()))\n",
    "print('student avg : {}'.format(st.getAvg()))"
   ]
  },
  {
   "cell_type": "code",
   "execution_count": null,
   "id": "5e1baf35",
   "metadata": {},
   "outputs": [],
   "source": []
  }
 ],
 "metadata": {
  "kernelspec": {
   "display_name": "Python 3 (ipykernel)",
   "language": "python",
   "name": "python3"
  },
  "language_info": {
   "codemirror_mode": {
    "name": "ipython",
    "version": 3
   },
   "file_extension": ".py",
   "mimetype": "text/x-python",
   "name": "python",
   "nbconvert_exporter": "python",
   "pygments_lexer": "ipython3",
   "version": "3.9.13"
  }
 },
 "nbformat": 4,
 "nbformat_minor": 5
}
