{
 "cells": [
  {
   "cell_type": "code",
   "execution_count": 2,
   "id": "3522f183",
   "metadata": {},
   "outputs": [],
   "source": [
    "def hello(name):\n",
    "    print('{}님 안녕하세요'.format(name))\n",
    "def niceMeet(name):\n",
    "    print('{}님 만나서 반갑습니다.'.format(name))"
   ]
  },
  {
   "cell_type": "code",
   "execution_count": 3,
   "id": "bde37ac2",
   "metadata": {},
   "outputs": [
    {
     "name": "stdout",
     "output_type": "stream",
     "text": [
      "김연아님 안녕하세요\n"
     ]
    }
   ],
   "source": [
    "hello('김연아')"
   ]
  },
  {
   "cell_type": "code",
   "execution_count": 4,
   "id": "ffa60de3",
   "metadata": {},
   "outputs": [
    {
     "name": "stdout",
     "output_type": "stream",
     "text": [
      "김연아님 만나서 반갑습니다.\n"
     ]
    }
   ],
   "source": [
    "niceMeet('김연아')"
   ]
  },
  {
   "cell_type": "code",
   "execution_count": 5,
   "id": "d05737b7",
   "metadata": {},
   "outputs": [],
   "source": [
    "import greet"
   ]
  },
  {
   "cell_type": "code",
   "execution_count": 6,
   "id": "e44c5ff2",
   "metadata": {},
   "outputs": [
    {
     "name": "stdout",
     "output_type": "stream",
     "text": [
      "김연아님 안녕하세요\n"
     ]
    }
   ],
   "source": [
    "greet.hello('김연아')"
   ]
  },
  {
   "cell_type": "code",
   "execution_count": 7,
   "id": "b49f6f5d",
   "metadata": {},
   "outputs": [
    {
     "name": "stdout",
     "output_type": "stream",
     "text": [
      "김연아님 만나서 반갑습니다.\n"
     ]
    }
   ],
   "source": [
    "greet.niceMeet('김연아')"
   ]
  },
  {
   "cell_type": "code",
   "execution_count": 8,
   "id": "fdb35d8b",
   "metadata": {},
   "outputs": [],
   "source": [
    "from greet import hello, niceMeet"
   ]
  },
  {
   "cell_type": "code",
   "execution_count": 9,
   "id": "23e0ef60",
   "metadata": {},
   "outputs": [
    {
     "name": "stdout",
     "output_type": "stream",
     "text": [
      "홍길동님 안녕하세요\n"
     ]
    }
   ],
   "source": [
    "hello('홍길동')"
   ]
  },
  {
   "cell_type": "code",
   "execution_count": 10,
   "id": "c21c7ffe",
   "metadata": {},
   "outputs": [
    {
     "name": "stdout",
     "output_type": "stream",
     "text": [
      "홍길동님 만나서 반갑습니다.\n"
     ]
    }
   ],
   "source": [
    "niceMeet('홍길동')"
   ]
  },
  {
   "cell_type": "code",
   "execution_count": null,
   "id": "edb0b434",
   "metadata": {},
   "outputs": [],
   "source": []
  },
  {
   "cell_type": "code",
   "execution_count": null,
   "id": "a97ec0d5",
   "metadata": {},
   "outputs": [],
   "source": [
    "import math"
   ]
  },
  {
   "cell_type": "code",
   "execution_count": 14,
   "id": "814ac295",
   "metadata": {},
   "outputs": [
    {
     "name": "stdout",
     "output_type": "stream",
     "text": [
      "math.floor(a) : 3\n",
      "math.ceil(a) : 4\n",
      "round(a) : 4\n",
      "math.factorial(round(a)) : 24\n"
     ]
    }
   ],
   "source": [
    "a = 3.6\n",
    "print('math.floor(a) : ' + str(math.floor(a)))\n",
    "print('math.ceil(a) : ' + str(math.ceil(a)))\n",
    "print('round(a) : ' + str(round(a)))\n",
    "print('math.factorial(round(a)) : ' + str(math.factorial(round(a))))"
   ]
  },
  {
   "cell_type": "code",
   "execution_count": 15,
   "id": "d1a5cef4",
   "metadata": {},
   "outputs": [
    {
     "name": "stdout",
     "output_type": "stream",
     "text": [
      "0.7071067811865476\n",
      "-1.0\n",
      "0.5773502691896257\n"
     ]
    }
   ],
   "source": [
    "b = math.sin(math.pi/4)\n",
    "print(b)\n",
    "b = math.cos(math.pi)\n",
    "print(b)\n",
    "b = math.tan(math.pi/6)\n",
    "print(b)"
   ]
  },
  {
   "cell_type": "code",
   "execution_count": 17,
   "id": "97530b67",
   "metadata": {},
   "outputs": [
    {
     "name": "stdout",
     "output_type": "stream",
     "text": [
      "8.0\n",
      "12.0\n",
      "2.0\n"
     ]
    }
   ],
   "source": [
    "c = math.pow(2,3)\n",
    "print(c)\n",
    "c = math.sqrt(144)\n",
    "print(c)\n",
    "c = math.log10(100)\n",
    "print(c)"
   ]
  },
  {
   "cell_type": "code",
   "execution_count": 18,
   "id": "bcf7e6d2",
   "metadata": {},
   "outputs": [],
   "source": [
    "import random"
   ]
  },
  {
   "cell_type": "code",
   "execution_count": 26,
   "id": "a9d2ef33",
   "metadata": {},
   "outputs": [
    {
     "name": "stdout",
     "output_type": "stream",
     "text": [
      "3\n",
      "5\n"
     ]
    }
   ],
   "source": [
    "x = random.randint(1,6)\n",
    "print(x)\n",
    "y = random.randint(1,6)\n",
    "print(y)"
   ]
  },
  {
   "cell_type": "code",
   "execution_count": 50,
   "id": "ad4e8dbf",
   "metadata": {},
   "outputs": [
    {
     "name": "stdout",
     "output_type": "stream",
     "text": [
      "가위-1, 바위-2, 보-3 (0-종료) : 2\n",
      "인간 vs AI 결과\n",
      "바위  가위\n",
      "당신의 승리입니다.\n",
      "가위-1, 바위-2, 보-3 (0-종료) : 1\n",
      "인간 vs AI 결과\n",
      "가위  가위\n",
      "비겼습니다.\n",
      "가위-1, 바위-2, 보-3 (0-종료) : 2\n",
      "인간 vs AI 결과\n",
      "바위  보\n",
      "당신의 패배입니다.\n",
      "가위-1, 바위-2, 보-3 (0-종료) : 0\n"
     ]
    }
   ],
   "source": [
    "import random\n",
    "msg = {1:'가위', 2:'바위', 3:'보'}\n",
    "\n",
    "while True:\n",
    "    me = int(input('가위-1, 바위-2, 보-3 (0-종료) : '))\n",
    "    if me == 0:\n",
    "        break\n",
    "    ai = random.randint(1,3)\n",
    "    print('인간 vs AI 결과')\n",
    "    print('{}  {}'.format(msg[me], msg[ai]))\n",
    "    if ((me == 1) & (ai == 2)):\n",
    "        print('당신의 패배입니다.')\n",
    "    elif((me == 1) & (ai == 3)):\n",
    "        print('당신의 승리입니다.')\n",
    "    elif((me == 2) & (ai == 1)):\n",
    "        print('당신의 승리입니다.')\n",
    "    elif((me == 2) & (ai == 3)):\n",
    "        print('당신의 패배입니다.')\n",
    "    elif((me == 3) & (ai == 1)):\n",
    "        print('당신의 패배입니다.')\n",
    "    elif((me == 3) & (ai == 2)):\n",
    "        print('당신의 승리입니다.')\n",
    "    elif(me == ai):\n",
    "        print('비겼습니다.')\n",
    "        "
   ]
  },
  {
   "cell_type": "markdown",
   "id": "f261bf2d",
   "metadata": {},
   "source": [
    "# datetime module"
   ]
  },
  {
   "cell_type": "code",
   "execution_count": 27,
   "id": "18916a84",
   "metadata": {},
   "outputs": [],
   "source": [
    "from datetime import datetime"
   ]
  },
  {
   "cell_type": "code",
   "execution_count": 28,
   "id": "496d98c0",
   "metadata": {},
   "outputs": [
    {
     "name": "stdout",
     "output_type": "stream",
     "text": [
      "2023-03-16 13:11:17.567386\n",
      "<class 'datetime.datetime'>\n"
     ]
    }
   ],
   "source": [
    "today = datetime.now()\n",
    "print(today)\n",
    "print(type(today))"
   ]
  },
  {
   "cell_type": "code",
   "execution_count": 46,
   "id": "dccca88e",
   "metadata": {},
   "outputs": [
    {
     "name": "stdout",
     "output_type": "stream",
     "text": [
      "2023-03-16 13:47:05.494384\n",
      "year is 2023\n",
      "month is 3\n",
      "day is 16\n",
      "hour is 13\n",
      "minute is 50\n",
      "second is 13\n",
      "microsecond is 195094\n",
      "============================================================\n",
      "2023-03-16 13:47:05.494384\n",
      "year is 2023\n",
      "month is 3\n",
      "day is 16\n",
      "hour is 13\n",
      "minute is 50\n",
      "second is 18\n",
      "microsecond is 196530\n",
      "now - pre time is : 0:00:05.001436\n"
     ]
    }
   ],
   "source": [
    "from datetime import datetime\n",
    "import time\n",
    "\n",
    "pre = datetime.now()\n",
    "print(today)\n",
    "print('year is {}'.format(pre.year))\n",
    "print('month is {}'.format(pre.month))\n",
    "print('day is {}'.format(pre.day))\n",
    "print('hour is {}'.format(pre.hour))\n",
    "print('minute is {}'.format(pre.minute))\n",
    "print('second is {}'.format(pre.second))\n",
    "print('microsecond is {:06d}'.format(pre.microsecond))\n",
    "\n",
    "time.sleep(5)\n",
    "print('==='*20)\n",
    "now = datetime.now()\n",
    "print(today)\n",
    "print('year is {}'.format(now.year))\n",
    "print('month is {}'.format(now.month))\n",
    "print('day is {}'.format(now.day))\n",
    "print('hour is {}'.format(now.hour))\n",
    "print('minute is {}'.format(now.minute))\n",
    "print('second is {}'.format(now.second))\n",
    "print('microsecond is {:06d}'.format(now.microsecond))\n",
    "\n",
    "print('now - pre time is : {}'.format(now-pre))"
   ]
  },
  {
   "cell_type": "code",
   "execution_count": 51,
   "id": "e3bcc96a",
   "metadata": {},
   "outputs": [
    {
     "name": "stdout",
     "output_type": "stream",
     "text": [
      "2023-03-16 14:02:44.270842\n"
     ]
    }
   ],
   "source": [
    "from datetime import datetime\n",
    "import time\n",
    "today = datetime.now()\n",
    "print(today)\n",
    "today_str = today.strftime('%Y/%m/%d %H:%M:%S')"
   ]
  },
  {
   "cell_type": "markdown",
   "id": "e8350916",
   "metadata": {},
   "source": [
    "# Logger Function 작성해보세요\n",
    "형식...logging.csv\n",
    "\n",
    "시간                           사람        AI      승리 \n",
    "2023-03-16 13: 26:27.220282    가위   vs   보      사람\n",
    "2023-03-16 13: 26:27.220282    바위   vs   바위    무승부\n",
    "2023-03-16 13: 26:27.220282    보     vs   가위    AI\n",
    "2023-03-16 13: 26:27.220282    가위   vs   보      사람\n",
    "\n",
    "open   logging.csv\n",
    "write  시간,사람,AI,승리\\n\n",
    "close\n",
    "\n",
    "//재료\n",
    "file i/o\n",
    "function(사람, AI)\n",
    "    return 승리자\n",
    "//로직   \n",
    "while\n",
    "    input 사람\n",
    "    random AI\n",
    "    call function()\n",
    "    save log"
   ]
  },
  {
   "cell_type": "code",
   "execution_count": 81,
   "id": "d342be70",
   "metadata": {},
   "outputs": [
    {
     "name": "stdout",
     "output_type": "stream",
     "text": [
      "가위-1, 바위-2, 보-3 (0-종료) : 1\n",
      "가위-1, 바위-2, 보-3 (0-종료) : 2\n",
      "가위-1, 바위-2, 보-3 (0-종료) : 3\n",
      "가위-1, 바위-2, 보-3 (0-종료) : 1\n",
      "가위-1, 바위-2, 보-3 (0-종료) : 2\n",
      "가위-1, 바위-2, 보-3 (0-종료) : 0\n"
     ]
    }
   ],
   "source": [
    "from datetime import datetime\n",
    "import time\n",
    "import random\n",
    "\n",
    "today = datetime.now()\n",
    "\n",
    "msg = {1:'가위', 2:'바위', 3:'보'}\n",
    "file = open('logging.csv', 'a')\n",
    "file.write('시간, 사람, AI, 승리\\n')\n",
    "\n",
    "while True:\n",
    "    me = int(input('가위-1, 바위-2, 보-3 (0-종료) : '))\n",
    "    if me == 0:\n",
    "        break\n",
    "    ai = random.randint(1,3)\n",
    "    \n",
    "    if me == ai:\n",
    "        win = '무승부'\n",
    "    elif (me == 1 and ai == 2) or (me == 2 and ai == 3) or (me == 3 and ai == 1):\n",
    "        win = 'AI'\n",
    "    else:\n",
    "        win = '사람'\n",
    "    \n",
    "    file = open('logging.csv', 'a')\n",
    "    file.write(' {}, {}, {}, {}\\n'.format(today, msg[me], msg[ai], win))\n",
    "    file.close()"
   ]
  },
  {
   "cell_type": "markdown",
   "id": "bc660450",
   "metadata": {},
   "source": [
    "# 덧셈 교환 법칙 증명 알고리즘"
   ]
  },
  {
   "cell_type": "code",
   "execution_count": 85,
   "id": "5dd8d1a6",
   "metadata": {},
   "outputs": [
    {
     "name": "stdout",
     "output_type": "stream",
     "text": [
      "a를 입력하세요 : 120\n",
      "b를 입력하세요 : 22\n",
      "교환 법칙 성립\n"
     ]
    }
   ],
   "source": [
    "a = int(input('a를 입력하세요 : '))\n",
    "b = int(input('b를 입력하세요 : '))\n",
    "\n",
    "c = a + b\n",
    "d = b + a\n",
    "\n",
    "if(c == d):\n",
    "    print('교환 법칙 성립')\n",
    "else:\n",
    "    print('교환 법칙 성립 X')"
   ]
  },
  {
   "cell_type": "code",
   "execution_count": 86,
   "id": "9130df10",
   "metadata": {},
   "outputs": [
    {
     "name": "stdout",
     "output_type": "stream",
     "text": [
      "1st 입력 : 12\n",
      "2nd 입력 : 13\n",
      "12 + 13 = 25\n",
      "13 + 12 = 25\n",
      "덧셈의 교환법칙이 성립합니다.\n"
     ]
    }
   ],
   "source": [
    "a = int(input('1st 입력 : '))\n",
    "b = int(input('2nd 입력 : '))\n",
    "c = a + b\n",
    "d = b + a\n",
    "if c == d:\n",
    "    print('{} + {} = {}'.format(a, b, c))\n",
    "    print('{} + {} = {}'.format(b, a, d))\n",
    "    print('덧셈의 교환법칙이 성립합니다.')\n",
    "else:\n",
    "    print('덧셈의 교환법칙이 성립하지 않습니다.')"
   ]
  },
  {
   "cell_type": "markdown",
   "id": "005c1ba0",
   "metadata": {},
   "source": [
    "# 바코드 암호화 / 복호화 코드를 작성해줘"
   ]
  },
  {
   "cell_type": "markdown",
   "id": "18eacd55",
   "metadata": {},
   "source": [
    "123 -> :::||::|:|::||: 으로 출력\n",
    ":::||::|:|::||: -> 123 으로 출력하는 코드를 작성해주세요"
   ]
  },
  {
   "cell_type": "markdown",
   "id": "1b916344",
   "metadata": {},
   "source": [
    "0-||:::  1-:::||  2-::|:|  3-::||:  4-:|::|  5-:|:|:  6-:||::  7-|:::|  8-|::|:  9-|:|::\n",
    "123 -> :::||   ::|:|   ::||:"
   ]
  },
  {
   "cell_type": "code",
   "execution_count": 8,
   "id": "adadb020",
   "metadata": {},
   "outputs": [
    {
     "name": "stdout",
     "output_type": "stream",
     "text": [
      ":::||::|:|::||:\n",
      "123\n"
     ]
    }
   ],
   "source": [
    "barcode = ['||:::', ':::||', '::|:|', '::||:', ':|::|', ':|:|:', ':||::', '|:::|', '|::|:', '|:|::']\n",
    "\n",
    "def encode_barcode(digits):\n",
    "    barcode_str = \"\"\n",
    "    for digit in digits:\n",
    "        barcode_str += barcode[int(digit)]\n",
    "    barcode_str += \"\"\n",
    "    return barcode_str\n",
    "\n",
    "def decode_barcode(barcode_str):\n",
    "    digits = []\n",
    "    for i in range(0, len(barcode_str), 5):\n",
    "        barcode_part = barcode_str[i:i+5]\n",
    "        digit = barcode.index(barcode_part)\n",
    "        digits.append(str(digit))\n",
    "    return \"\".join(digits)\n",
    "\n",
    "input_digits = \"123\"\n",
    "output_barcode = encode_barcode(input_digits)\n",
    "print(output_barcode)\n",
    "\n",
    "input_barcode = \":::||::|:|::||:\"\n",
    "output_digits = decode_barcode(input_barcode)\n",
    "print(output_digits)"
   ]
  },
  {
   "cell_type": "code",
   "execution_count": 10,
   "id": "3a7da082",
   "metadata": {},
   "outputs": [
    {
     "name": "stdout",
     "output_type": "stream",
     "text": [
      "||::: :::||\n",
      "<class 'list'>\n",
      "||::: :::||\n",
      "<class 'dict'>\n"
     ]
    }
   ],
   "source": [
    "secretCode = ['||:::', ':::||', '::|:|', '::||:', ':|::|',\n",
    "              ':|:|:', ':||::', '|:::|', '|::|:', '|:|::']\n",
    "print(secretCode[0], secretCode[1])\n",
    "print(type(secretCode))\n",
    "'''secretCode = {0:'||:::', 1:':::||', 2:'::|:|', 3:'::||:', 4:':|::|',\n",
    "              5:':|:|:', 6:':||::', 7:'|:::|', 8:'|::|:', 9:'|:|::'}\n",
    "print(secretCode[0], secretCode[1])\n",
    "print(type(secretCode))'''"
   ]
  },
  {
   "cell_type": "markdown",
   "id": "5b2107df",
   "metadata": {},
   "source": [
    "# 1단계 : 123 -> :::||::|:|::||:"
   ]
  },
  {
   "cell_type": "code",
   "execution_count": 47,
   "id": "7dc7b445",
   "metadata": {},
   "outputs": [
    {
     "name": "stdout",
     "output_type": "stream",
     "text": [
      "1 :::||\n",
      "2 ::|:|\n",
      "3 ::||:\n",
      "123->:::||::|:|::||:\n"
     ]
    }
   ],
   "source": [
    "strNums = '123'\n",
    "\n",
    "#print(type(strNums)) #int -> string ... char char char\n",
    "\n",
    "#print('[1]'+secretCode[1])\n",
    "#print('[2]'+secretCode[2])\n",
    "#print('[3]'+secretCode[3])\n",
    "\n",
    "def ConvertNumsToBarcode(strNums):\n",
    "    strBarcodes = ''\n",
    "    for n in strNums:\n",
    "        #print(n)\n",
    "        #print(type(n))\n",
    "        print('{} '.format(n) + secretCode[int(n)])\n",
    "        strBarcodes = strBarcodes + secretCode[int(n)]\n",
    "\n",
    "    return strBarcodes\n",
    "        \n",
    "strBarcodes = ConvertNumsToBarcode(strNums)\n",
    "print(strNums + '->' + strBarcodes)"
   ]
  },
  {
   "cell_type": "markdown",
   "id": "8a2c1203",
   "metadata": {},
   "source": [
    "# 2단계 : :::||::|:|::||: -> 123"
   ]
  },
  {
   "cell_type": "code",
   "execution_count": 52,
   "id": "b5f98dd2",
   "metadata": {},
   "outputs": [
    {
     "name": "stdout",
     "output_type": "stream",
     "text": [
      "[0] :||:::,   [0] Size : 5\n",
      "======================================================================\n",
      "function param : :::||::|:|::||:\n",
      "intputSize - 15\n",
      "ptrnSize - 5\n",
      "stepSize - 3\n",
      "sub string ptrn - :::||\n",
      "sub string ptrn - ::|:|\n",
      "sub string ptrn - ::||:\n"
     ]
    }
   ],
   "source": [
    "strBarcodes = ':::||::|:|::||:'\n",
    "\n",
    "print('[0] :'+secretCode[0] + ',   [0] Size : ' + str(len(secretCode[0])))\n",
    "print('='*70)\n",
    "def ConvertBarcodeToNums(strBarcodes):\n",
    "    print('function param : ' + strBarcodes)\n",
    "    #:::||::|:|::||: ... input 15 ... inputSize\n",
    "    #:::||           ... div    5 ... ptrnSize\n",
    "    #                    step   3 ... stepSize\n",
    "    intputSize = len(strBarcodes)#15\n",
    "    ptrnSize = len(secretCode[0])#5\n",
    "    stepSize = int(intputSize / ptrnSize)#3\n",
    "    print('intputSize - ' + str(intputSize))\n",
    "    print('ptrnSize - ' + str(ptrnSize))\n",
    "    print('stepSize - ' + str(stepSize))\n",
    "    \n",
    "    #for(int n=0; n<inputSize; n+=stepSize)\n",
    "    for n in range(0,intputSize,ptrnSize):\n",
    "        #ptrn1 = strBarCodes[0:0+5]#0->n, 5->ptrnSize\n",
    "        ptrn = strBarcodes[n:n+ptrnSize]#0->n, 5->ptrnSize\n",
    "        print('sub string ptrn - ' + ptrn)\n",
    "    \n",
    "    \n",
    "    #var -> for iterable\n",
    "    #ptrn1 = strBarcodes[0:0+5]#1   jump 5\n",
    "    #ptrn2 = strBarcodes[5:5+5]#2   jump 5\n",
    "    #ptrn3 = strBarcodes[10:10+5]#3\n",
    "    \n",
    "    #print('sub string ptrn1 - ' + ptrn1)\n",
    "    \n",
    "ConvertBarcodeToNums(strBarcodes)"
   ]
  },
  {
   "cell_type": "code",
   "execution_count": 53,
   "id": "de3d7b29",
   "metadata": {},
   "outputs": [
    {
     "name": "stdout",
     "output_type": "stream",
     "text": [
      "Barcodes - :::||::|:|::||:\n",
      "Nums - 123\n"
     ]
    }
   ],
   "source": [
    "strBarcodes = ':::||::|:|::||:'\n",
    "def ConvertBarcodeToNums1(strBarcodes):\n",
    "    intputSize = len(strBarcodes)#15\n",
    "    ptrnSize = len(secretCode[0])#5\n",
    "    strfindNums = ''\n",
    "    for n in range(0,intputSize,ptrnSize):\n",
    "        ptrn = strBarcodes[n:n+ptrnSize]#0->n, 5->ptrnSize\n",
    "        idx = 0\n",
    "        find_idx = 0\n",
    "        for code in secretCode:#get index -> value ... 0 index....0 value [LIST]\n",
    "            if code == ptrn:\n",
    "                find_idx = idx\n",
    "                strfindNums += str(find_idx)\n",
    "                break\n",
    "            else:\n",
    "                idx+=1\n",
    "    return strfindNums\n",
    "def ConvertBarcodeToNums2(strBarcodes):\n",
    "    ptrnSz = len(secretCode[0])\n",
    "    ptrnCount = len(strBarcodes)/ptrnSz\n",
    "    ptrnNums = ''\n",
    "    for x in range(0,len(strBarcodes),ptrnSz):\n",
    "        ptrn = strBarcodes[x:x+ptrnSz]\n",
    "        for k in range(len(secretCode)):\n",
    "            if ptrn == secretCode[k]:\n",
    "                ptrnNums+=str(k)\n",
    "    return ptrnNums\n",
    "\n",
    "\n",
    "print('Barcodes - {}'.format(strBarcodes))    \n",
    "strNums = ConvertBarcodeToNums2(strBarcodes) \n",
    "print('Nums - {}'.format(strNums))     "
   ]
  },
  {
   "cell_type": "code",
   "execution_count": 72,
   "id": "a66d71b2",
   "metadata": {},
   "outputs": [
    {
     "name": "stdout",
     "output_type": "stream",
     "text": [
      "  1  2  3  4  5  6  7  8  9  10 11 12\n",
      "A EC EC EC EC EC EC EC EC EC EC EC EC \n",
      "B EC EC EC EC EC EC EC EC EC EC EC EC \n",
      "C EC EC RE RE RE RE RE RE RE EC EC EC \n",
      "D EC EC RE RE RE RE RE RE RE EC EC EC \n",
      "E EC EC RE RE RE RE RE RE RE EC EC EC \n",
      "F EC EC RE RE RE RE RE RE RE EC EC EC \n",
      "G SP SP SP SP SP SP SP SP SP SP SP SP \n",
      "H SP SP SP SP SP SP SP SP SP SP SP SP \n",
      "원하는 좌석을 선택해주세요 (예: F11): K12\n",
      "좌석번호가 잘못되었습니다. 다시 입력해주세요!\n",
      "원하는 좌석을 선택해주세요 (예: F11): H7\n",
      "좌석번호: H7\n",
      "티켓가격: 10000원\n"
     ]
    }
   ],
   "source": [
    "#input output 출력까지 완료하세요\n",
    "\n",
    "seat = [\n",
    "    ['EC', 'EC', 'EC', 'EC', 'EC', 'EC', 'EC', 'EC', 'EC', 'EC', 'EC', 'EC'],\n",
    "    ['EC', 'EC', 'EC', 'EC', 'EC', 'EC', 'EC', 'EC', 'EC', 'EC', 'EC', 'EC'],\n",
    "    ['EC', 'EC', 'RE', 'RE', 'RE', 'RE', 'RE', 'RE', 'RE', 'EC', 'EC', 'EC'],\n",
    "    ['EC', 'EC', 'RE', 'RE', 'RE', 'RE', 'RE', 'RE', 'RE', 'EC', 'EC', 'EC'],\n",
    "    ['EC', 'EC', 'RE', 'RE', 'RE', 'RE', 'RE', 'RE', 'RE', 'EC', 'EC', 'EC'],\n",
    "    ['EC', 'EC', 'RE', 'RE', 'RE', 'RE', 'RE', 'RE', 'RE', 'EC', 'EC', 'EC'],\n",
    "    ['SP', 'SP', 'SP', 'SP', 'SP', 'SP', 'SP', 'SP', 'SP', 'SP', 'SP', 'SP'],\n",
    "    ['SP', 'SP', 'SP', 'SP', 'SP', 'SP', 'SP', 'SP', 'SP', 'SP', 'SP', 'SP']\n",
    "]\n",
    "\n",
    "price = {\n",
    "    'EC': '7000원',\n",
    "    'RE': '8000원',\n",
    "    'SP': '10000원'\n",
    "}\n",
    "\n",
    "print(\"  1  2  3  4  5  6  7  8  9  10 11 12\")\n",
    "for i, row in enumerate(seat):\n",
    "    print(chr(i+65), end=\" \")\n",
    "    for seat_type in row:\n",
    "        print(seat_type, end=\" \")\n",
    "    print()\n",
    "    \n",
    "\n",
    "while True:\n",
    "    select = input(\"원하는 좌석을 선택해주세요 (예: F11): \")\n",
    "    row = select[0]\n",
    "    col = int(select[1:]) - 1\n",
    "\n",
    "    if row not in ['A', 'B', 'C', 'D', 'E', 'F', 'G', 'H'] or col < 0 or col > 11:\n",
    "        print(\"좌석번호가 잘못되었습니다. 다시 입력해주세요!\")\n",
    "        continue\n",
    "    \n",
    "    seat_type = seat[ord(row)-65][col]\n",
    "    price = price[seat_type]\n",
    "\n",
    "    print(f\"좌석번호: {select}\")\n",
    "    print(f\"티켓가격: {price}\")\n",
    "    break"
   ]
  },
  {
   "cell_type": "code",
   "execution_count": 75,
   "id": "d28f3b4d",
   "metadata": {},
   "outputs": [
    {
     "name": "stdout",
     "output_type": "stream",
     "text": [
      "EC : 7000원, RE : 8000원, SP: 10000원\n",
      "\n",
      "- 좌석배치도\n",
      "\n",
      "   |  1   |  2   |  3   |  4   |  5   |  6   |  7   |  8   |  9   |  10  |  11  |  12  |\n",
      "----------------------------------------------------------------------------------------\n",
      "A  |  EC  |  EC  |  EC  |  EC  |  EC  |  EC  |  EC  |  EC  |  EC  |  EC  |  EC  |  EC  |\n",
      "----------------------------------------------------------------------------------------\n",
      "B  |  EC  |  EC  |  EC  |  EC  |  EC  |  EC  |  EC  |  EC  |  EC  |  EC  |  EC  |  EC  |\n",
      "----------------------------------------------------------------------------------------\n",
      "C  |  EC  |  EC  |  RE  |  RE  |  RE  |  RE  |  RE  |  RE  |  RE  |  RE  |  EC  |  EC  |\n",
      "----------------------------------------------------------------------------------------\n",
      "D  |  EC  |  EC  |  RE  |  RE  |  RE  |  RE  |  RE  |  RE  |  RE  |  RE  |  EC  |  EC  |\n",
      "----------------------------------------------------------------------------------------\n",
      "E  |  EC  |  EC  |  RE  |  RE  |  RE  |  RE  |  RE  |  RE  |  RE  |  RE  |  EC  |  EC  |\n",
      "----------------------------------------------------------------------------------------\n",
      "F  |  EC  |  EC  |  RE  |  RE  |  RE  |  RE  |  RE  |  RE  |  RE  |  RE  |  EC  |  EC  |\n",
      "----------------------------------------------------------------------------------------\n",
      "G  |  SP  |  SP  |  SP  |  SP  |  SP  |  SP  |  SP  |  SP  |  SP  |  SP  |  SP  |  SP  |\n",
      "----------------------------------------------------------------------------------------\n",
      "H  |  SP  |  SP  |  SP  |  SP  |  SP  |  SP  |  SP  |  SP  |  SP  |  SP  |  SP  |  SP  |\n",
      "----------------------------------------------------------------------------------------\n",
      "원하는 좌석을 선택해주세요. (예 : F11) : K12\n",
      "좌석번호가 잘못되었습니다. 다시 입력해주세요\n",
      "원하는 좌석을 선택해주세요. (예 : F11) : F7\n",
      "좌석번호 : F7\n",
      "티켓 가격 : 8000\n"
     ]
    }
   ],
   "source": [
    "seatList = {    \n",
    "    ' ': ['1 ',  '2 ',  '3 ',  '4 ',  '5 ',  '6 ',  '7 ',  '8 ',  '9 ',  '10', '11', '12'],\n",
    "    'A': ['EC', 'EC', 'EC', 'EC', 'EC', 'EC', 'EC', 'EC', 'EC', 'EC', 'EC', 'EC'],\n",
    "    'B': ['EC', 'EC', 'EC', 'EC', 'EC', 'EC', 'EC', 'EC', 'EC', 'EC', 'EC', 'EC'],\n",
    "    'C': ['EC', 'EC', 'RE', 'RE', 'RE', 'RE', 'RE', 'RE', 'RE', 'RE', 'EC', 'EC'],\n",
    "    'D': ['EC', 'EC', 'RE', 'RE', 'RE', 'RE', 'RE', 'RE', 'RE', 'RE', 'EC', 'EC'],\n",
    "    'E': ['EC', 'EC', 'RE', 'RE', 'RE', 'RE', 'RE', 'RE', 'RE', 'RE', 'EC', 'EC'],\n",
    "    'F': ['EC', 'EC', 'RE', 'RE', 'RE', 'RE', 'RE', 'RE', 'RE', 'RE', 'EC', 'EC'],\n",
    "    'G': ['SP', 'SP', 'SP', 'SP', 'SP', 'SP', 'SP', 'SP', 'SP', 'SP', 'SP', 'SP'],\n",
    "    'H': ['SP', 'SP', 'SP', 'SP', 'SP', 'SP', 'SP', 'SP', 'SP', 'SP', 'SP', 'SP']\n",
    "}\n",
    "\n",
    "price = {'EC':7000,'RE':8000,'SP':10000}\n",
    "\n",
    "state = 0\n",
    "\n",
    "print('EC : {}원, RE : {}원, SP: {}원\\n'.format(price['EC'],price['RE'],price['SP']))\n",
    "print('- 좌석배치도\\n')\n",
    "\n",
    "for key,value in seatList.items():\n",
    "    print(key+'  | ' + ' ',end='')\n",
    "    for col in range(len(value)):\n",
    "        if col == 11:\n",
    "            print(value[col]+'  |')\n",
    "        else:    \n",
    "            print(value[col]+'  | '+ ' ',end = '')\n",
    "    print('-'*88)    \n",
    "\n",
    "while state != 1:\n",
    "    seat = str(input('원하는 좌석을 선택해주세요. (예 : F11) : '))\n",
    "    if ord('H') < ord(seat[0]) or int(seat[1:]) > 12:\n",
    "                print('좌석번호가 잘못되었습니다. 다시 입력해주세요')    \n",
    "    for key,value in seatList.items():\n",
    "        if key == seat[0]:\n",
    "            print('좌석번호 : ' + seat)\n",
    "            print('티켓 가격 : ' + str(price[value[int(seat[1:])-1]]))\n",
    "            state = 1\n",
    "           "
   ]
  },
  {
   "cell_type": "code",
   "execution_count": null,
   "id": "dfb62845",
   "metadata": {},
   "outputs": [],
   "source": []
  }
 ],
 "metadata": {
  "kernelspec": {
   "display_name": "Python 3 (ipykernel)",
   "language": "python",
   "name": "python3"
  },
  "language_info": {
   "codemirror_mode": {
    "name": "ipython",
    "version": 3
   },
   "file_extension": ".py",
   "mimetype": "text/x-python",
   "name": "python",
   "nbconvert_exporter": "python",
   "pygments_lexer": "ipython3",
   "version": "3.9.13"
  }
 },
 "nbformat": 4,
 "nbformat_minor": 5
}
